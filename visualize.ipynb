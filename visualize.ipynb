{
 "cells": [
  {
   "cell_type": "markdown",
   "metadata": {},
   "source": [
    "## Example of Evaluating Trained Identifier \n",
    "\n",
    "For the visualization, please run the following code first which trains identifier for Llama2 model. \n",
    "\n",
    "```bash \n",
    "bash shells/example.sh\n",
    "```\n",
    "\n",
    "You can use different configuration if you want. \n",
    "Just change `PATH` param and make sure that you gather activations, and trained identifiers. \n",
    "\n",
    "```bash\n",
    "bash shells/gather_activaiton.sh\n",
    "bash shells/train_identifiers.sh\n",
    "```"
   ]
  },
  {
   "cell_type": "code",
   "execution_count": 1,
   "metadata": {},
   "outputs": [
    {
     "data": {
      "application/vnd.jupyter.widget-view+json": {
       "model_id": "8a47ed0f221d45428215da53ff596d61",
       "version_major": 2,
       "version_minor": 0
      },
      "text/plain": [
       "Loading checkpoint shards:   0%|          | 0/2 [00:00<?, ?it/s]"
      ]
     },
     "metadata": {},
     "output_type": "display_data"
    },
    {
     "data": {
      "text/plain": [
       "MLPIdentifier(\n",
       "  (net): Sequential(\n",
       "    (0): Linear(in_features=8192, out_features=128, bias=True)\n",
       "    (1): ReLU()\n",
       "    (2): Linear(in_features=128, out_features=100, bias=True)\n",
       "  )\n",
       ")"
      ]
     },
     "execution_count": 1,
     "metadata": {},
     "output_type": "execute_result"
    }
   ],
   "source": [
    "from sip_lib.identifiers.get_identifier import make_identifier\n",
    "from sip_lib.make_llm import make_language_model_and_tokenizer\n",
    "from sip_lib.utils.colorize import colorize\n",
    "from IPython.display import display, HTML\n",
    "from omegaconf import OmegaConf\n",
    "import matplotlib\n",
    "import torch \n",
    "import re \n",
    "import os \n",
    "\n",
    "# ------------------------------------------------------------------------------------\n",
    "PATH = 'outputs/train_identifier/cut_labels_100/llama2_7b/tiny/bigram/seed_0/layer_26'\n",
    "# ------------------------------------------------------------------------------------\n",
    "flags = OmegaConf.load(os.path.join(PATH, 'config.yaml'))\n",
    "lm_model, tokenizer = make_language_model_and_tokenizer(lm_cache_dir=flags.activation_gather_config.lm_cache_dir, \n",
    "                                                        num_gpus=flags.activation_gather_config.num_gpus, **flags)\n",
    "identifier_model = make_identifier(flags.identifier_model,  **flags)\n",
    "identifier_model.load_state_dict(torch.load(os.path.join(PATH, \"model.pt\")))\n",
    "identifier_model.to(\"cuda:0\")\n",
    "identifier_model.eval()"
   ]
  },
  {
   "cell_type": "code",
   "execution_count": 4,
   "metadata": {},
   "outputs": [
    {
     "name": "stderr",
     "output_type": "stream",
     "text": [
      "/home/bumjin/anaconda3/lib/python3.11/site-packages/transformers/generation/configuration_utils.py:492: UserWarning: `do_sample` is set to `False`. However, `temperature` is set to `0.6` -- this flag is only used in sample-based generation modes. You should set `do_sample=True` or unset `temperature`.\n",
      "  warnings.warn(\n",
      "/home/bumjin/anaconda3/lib/python3.11/site-packages/transformers/generation/configuration_utils.py:497: UserWarning: `do_sample` is set to `False`. However, `top_p` is set to `0.9` -- this flag is only used in sample-based generation modes. You should set `do_sample=True` or unset `top_p`.\n",
      "  warnings.warn(\n"
     ]
    },
    {
     "name": "stdout",
     "output_type": "stream",
     "text": [
      "----------------------------------\n",
      "> Hidden shape: torch.Size([1, 51, 4096])\n",
      " Generated: \n",
      "<s> The Trojan War: A New History\n",
      "The Trojan War: A New History by Barry Strauss\n",
      "The Trojan War is the greatest story in Western civilization, the source of the Iliad and the Odyssey, and\n"
     ]
    }
   ],
   "source": [
    "# Generate and gather hiddens\n",
    "PROMPT = 'The Trojan'\n",
    "\n",
    "# 1. generate\n",
    "input_ids = tokenizer([PROMPT], return_tensors=\"pt\" )\n",
    "for k, v in input_ids.items():\n",
    "    input_ids[k] = v.to(\"cuda:0\")\n",
    "output = lm_model.generate(**input_ids, max_length=50, do_sample=False, pad_token_id=tokenizer.eos_token_id,)\n",
    "text = tokenizer.batch_decode(output)[0]\n",
    "\n",
    "# 2. gather hiddens\n",
    "input_ids = tokenizer([text], return_tensors=\"pt\" )\n",
    "for k, v in input_ids.items():\n",
    "    input_ids[k] = v.to(\"cuda:0\")\n",
    "hiddens = lm_model.forward(**input_ids, output_hidden_states=True).hidden_states[flags.hook_layer]\n",
    "print(\"----------------------------------\")\n",
    "print(\"> Hidden shape:\", hiddens.shape)\n",
    "print(\" Generated: \")\n",
    "print(text)"
   ]
  },
  {
   "cell_type": "code",
   "execution_count": 5,
   "metadata": {},
   "outputs": [
    {
     "name": "stderr",
     "output_type": "stream",
     "text": [
      "2024-04-21 20:01:47.616825: I tensorflow/core/util/port.cc:113] oneDNN custom operations are on. You may see slightly different numerical results due to floating-point round-off errors from different computation orders. To turn them off, set the environment variable `TF_ENABLE_ONEDNN_OPTS=0`.\n",
      "2024-04-21 20:01:47.656217: E external/local_xla/xla/stream_executor/cuda/cuda_dnn.cc:9261] Unable to register cuDNN factory: Attempting to register factory for plugin cuDNN when one has already been registered\n",
      "2024-04-21 20:01:47.656249: E external/local_xla/xla/stream_executor/cuda/cuda_fft.cc:607] Unable to register cuFFT factory: Attempting to register factory for plugin cuFFT when one has already been registered\n",
      "2024-04-21 20:01:47.657663: E external/local_xla/xla/stream_executor/cuda/cuda_blas.cc:1515] Unable to register cuBLAS factory: Attempting to register factory for plugin cuBLAS when one has already been registered\n",
      "2024-04-21 20:01:47.664933: I tensorflow/core/platform/cpu_feature_guard.cc:182] This TensorFlow binary is optimized to use available CPU instructions in performance-critical operations.\n",
      "To enable the following instructions: AVX2 AVX512F AVX512_VNNI FMA, in other operations, rebuild TensorFlow with the appropriate compiler flags.\n",
      "2024-04-21 20:01:48.468637: W tensorflow/compiler/tf2tensorrt/utils/py_utils.cc:38] TF-TRT Warning: Could not find TensorRT\n"
     ]
    }
   ],
   "source": [
    "# Preidct Lagbels\n",
    "LOGIT_FILTER = 0.5\n",
    "\n",
    "if flags.source_label_type == \"unigram\":\n",
    "    new_x = hiddens\n",
    "elif flags.source_label_type == \"bigram\":\n",
    "    first_gram = hiddens[:,:-1, ...] # drop the last \n",
    "    second_gram = hiddens[:,1:,...] # drop the first\n",
    "    new_x = torch.cat([first_gram, second_gram], dim=-1)\n",
    "elif flags.source_label_type == \"trigram\":\n",
    "    first_gram = hiddens[:,:-2, ...] # drop the last \n",
    "    second_gram = hiddens[:,1:-1,...] # drop the first\n",
    "    third_gram = hiddens[:,2:, ...]\n",
    "    new_x = torch.cat([first_gram, second_gram, third_gram], dim=-1)\n",
    "\n",
    "output = identifier_model(new_x.to(\"cuda:0\"))\n",
    "id_to_vocab = {v:k for k,v in tokenizer.get_vocab().items()}\n",
    "tokenized = tokenizer(text)['input_ids']\n",
    "decoded_text = tokenizer.decode(tokenized) \n",
    "decoded_tokens = [] \n",
    "for idx in tokenized:\n",
    "    decoded_tokens.append(id_to_vocab[idx])\n",
    "\n",
    "labels = output.argmax(dim=-1).squeeze(0)\n",
    "logits = torch.softmax(output, dim=-1).max(dim=-1)[0].squeeze(0)\n",
    "labels[logits<LOGIT_FILTER] = -1\n"
   ]
  },
  {
   "cell_type": "code",
   "execution_count": 6,
   "metadata": {},
   "outputs": [
    {
     "name": "stdout",
     "output_type": "stream",
     "text": [
      "<s> The Trojan War: A New History\n",
      "The Trojan War: A New History by Barry Strauss\n",
      "The Trojan War is the greatest story in Western civilization, the source of the Iliad and the Odyssey, and\n"
     ]
    },
    {
     "data": {
      "text/html": [
       "<p><span style=\"color: black; background-color: #aec7e8\">&nbsp&nbsp</span><span style=\"color: black; background-color: #aec7e8\">&nbsp&nbsp</span><span style=\"color: black; background-color: #ffffff\">&nbsp▁The&nbsp</span><span style=\"color: black; background-color: #ff9896\">&nbsp▁Tro&nbsp</span><span style=\"color: black; background-color: #ff9896\">&nbspjan&nbsp</span><span style=\"color: black; background-color: #ff9896\">&nbsp▁War&nbsp</span><span style=\"color: black; background-color: #ffffff\">&nbsp:&nbsp</span><span style=\"color: black; background-color: #ffffff\">&nbsp▁A&nbsp</span><span style=\"color: black; background-color: #ffffff\">&nbsp▁New&nbsp</span><span style=\"color: black; background-color: #e377c2\">&nbsp▁History&nbsp</span><span style=\"color: black; background-color: #d62728\">&nbsp<br>&nbsp</span><span style=\"color: black; background-color: #c49c94\">&nbspThe&nbsp</span><span style=\"color: black; background-color: #ffffff\">&nbsp▁Tro&nbsp</span><span style=\"color: black; background-color: #ff9896\">&nbspjan&nbsp</span><span style=\"color: black; background-color: #ffbb78\">&nbsp▁War&nbsp</span><span style=\"color: black; background-color: #f7b6d2\">&nbsp:&nbsp</span><span style=\"color: black; background-color: #ffffff\">&nbsp▁A&nbsp</span><span style=\"color: black; background-color: #ffffff\">&nbsp▁New&nbsp</span><span style=\"color: black; background-color: #ffffff\">&nbsp▁History&nbsp</span><span style=\"color: black; background-color: #ffffff\">&nbsp▁by&nbsp</span><span style=\"color: black; background-color: #ffffff\">&nbsp▁Barry&nbsp</span><span style=\"color: black; background-color: #f7b6d2\">&nbsp▁Stra&nbsp</span><span style=\"color: black; background-color: #ff7f0e\">&nbspuss&nbsp</span><span style=\"color: black; background-color: #ff9896\">&nbsp<br>&nbsp</span><span style=\"color: black; background-color: #c5b0d5\">&nbspThe&nbsp</span><span style=\"color: black; background-color: #ff9896\">&nbsp▁Tro&nbsp</span><span style=\"color: black; background-color: #ff9896\">&nbspjan&nbsp</span><span style=\"color: black; background-color: #ff9896\">&nbsp▁War&nbsp</span><span style=\"color: black; background-color: #ffffff\">&nbsp▁is&nbsp</span><span style=\"color: black; background-color: #ffffff\">&nbsp▁the&nbsp</span><span style=\"color: black; background-color: #ffffff\">&nbsp▁greatest&nbsp</span><span style=\"color: black; background-color: #9467bd\">&nbsp▁story&nbsp</span><span style=\"color: black; background-color: #ffffff\">&nbsp▁in&nbsp</span><span style=\"color: black; background-color: #c49c94\">&nbsp▁Western&nbsp</span><span style=\"color: black; background-color: #ffffff\">&nbsp▁civil&nbsp</span><span style=\"color: black; background-color: #ffffff\">&nbspization&nbsp</span><span style=\"color: black; background-color: #2ca02c\">&nbsp,&nbsp</span><span style=\"color: black; background-color: #ffffff\">&nbsp▁the&nbsp</span><span style=\"color: black; background-color: #ffffff\">&nbsp▁source&nbsp</span><span style=\"color: black; background-color: #98df8a\">&nbsp▁of&nbsp</span><span style=\"color: black; background-color: #ff9896\">&nbsp▁the&nbsp</span><span style=\"color: black; background-color: #c49c94\">&nbsp▁I&nbsp</span><span style=\"color: black; background-color: #ffffff\">&nbspli&nbsp</span><span style=\"color: black; background-color: #ff9896\">&nbspad&nbsp</span><span style=\"color: black; background-color: #ff9896\">&nbsp▁and&nbsp</span><span style=\"color: black; background-color: #ffffff\">&nbsp▁the&nbsp</span><span style=\"color: black; background-color: #8c564b\">&nbsp▁Od&nbsp</span><span style=\"color: black; background-color: #ffffff\">&nbspys&nbsp</span><span style=\"color: black; background-color: #ffffff\">&nbspsey&nbsp</span><span style=\"color: black; background-color: #ffffff\">&nbsp,&nbsp</span></p>"
      ],
      "text/plain": [
       "<IPython.core.display.HTML object>"
      ]
     },
     "metadata": {},
     "output_type": "display_data"
    },
    {
     "data": {
      "text/html": [
       "<p><span style=\"color: black; background-color: #01ff6f\">&nbsp&nbsp</span><span style=\"color: black; background-color: #00ff6f\">&nbsp&nbsp</span><span style=\"color: black; background-color: #a4ffcc\">&nbsp▁The&nbsp</span><span style=\"color: black; background-color: #6cffac\">&nbsp▁Tro&nbsp</span><span style=\"color: black; background-color: #01ff70\">&nbspjan&nbsp</span><span style=\"color: black; background-color: #13ff7a\">&nbsp▁War&nbsp</span><span style=\"color: black; background-color: #86ffba\">&nbsp:&nbsp</span><span style=\"color: black; background-color: #caffe1\">&nbsp▁A&nbsp</span><span style=\"color: black; background-color: #9cffc7\">&nbsp▁New&nbsp</span><span style=\"color: black; background-color: #66ffa8\">&nbsp▁History&nbsp</span><span style=\"color: black; background-color: #6effad\">&nbsp<br>&nbsp</span><span style=\"color: black; background-color: #33ff8c\">&nbspThe&nbsp</span><span style=\"color: black; background-color: #a3ffcb\">&nbsp▁Tro&nbsp</span><span style=\"color: black; background-color: #24ff83\">&nbspjan&nbsp</span><span style=\"color: black; background-color: #63ffa7\">&nbsp▁War&nbsp</span><span style=\"color: black; background-color: #78ffb3\">&nbsp:&nbsp</span><span style=\"color: black; background-color: #9cffc7\">&nbsp▁A&nbsp</span><span style=\"color: black; background-color: #83ffb9\">&nbsp▁New&nbsp</span><span style=\"color: black; background-color: #baffd8\">&nbsp▁History&nbsp</span><span style=\"color: black; background-color: #9effc8\">&nbsp▁by&nbsp</span><span style=\"color: black; background-color: #a2ffcb\">&nbsp▁Barry&nbsp</span><span style=\"color: black; background-color: #5dffa3\">&nbsp▁Stra&nbsp</span><span style=\"color: black; background-color: #01ff70\">&nbspuss&nbsp</span><span style=\"color: black; background-color: #1aff7e\">&nbsp<br>&nbsp</span><span style=\"color: black; background-color: #5cffa3\">&nbspThe&nbsp</span><span style=\"color: black; background-color: #2bff87\">&nbsp▁Tro&nbsp</span><span style=\"color: black; background-color: #3bff91\">&nbspjan&nbsp</span><span style=\"color: black; background-color: #7bffb5\">&nbsp▁War&nbsp</span><span style=\"color: black; background-color: #b0ffd2\">&nbsp▁is&nbsp</span><span style=\"color: black; background-color: #abffd0\">&nbsp▁the&nbsp</span><span style=\"color: black; background-color: #8effbf\">&nbsp▁greatest&nbsp</span><span style=\"color: black; background-color: #74ffb0\">&nbsp▁story&nbsp</span><span style=\"color: black; background-color: #96ffc4\">&nbsp▁in&nbsp</span><span style=\"color: black; background-color: #05ff72\">&nbsp▁Western&nbsp</span><span style=\"color: black; background-color: #87ffbb\">&nbsp▁civil&nbsp</span><span style=\"color: black; background-color: #90ffc0\">&nbspization&nbsp</span><span style=\"color: black; background-color: #75ffb1\">&nbsp,&nbsp</span><span style=\"color: black; background-color: #92ffc1\">&nbsp▁the&nbsp</span><span style=\"color: black; background-color: #99ffc5\">&nbsp▁source&nbsp</span><span style=\"color: black; background-color: #63ffa7\">&nbsp▁of&nbsp</span><span style=\"color: black; background-color: #4cff9a\">&nbsp▁the&nbsp</span><span style=\"color: black; background-color: #00ff6f\">&nbsp▁I&nbsp</span><span style=\"color: black; background-color: #a9ffce\">&nbspli&nbsp</span><span style=\"color: black; background-color: #19ff7d\">&nbspad&nbsp</span><span style=\"color: black; background-color: #09ff74\">&nbsp▁and&nbsp</span><span style=\"color: black; background-color: #acffd0\">&nbsp▁the&nbsp</span><span style=\"color: black; background-color: #29ff86\">&nbsp▁Od&nbsp</span><span style=\"color: black; background-color: #a3ffcb\">&nbspys&nbsp</span><span style=\"color: black; background-color: #a0ffc9\">&nbspsey&nbsp</span><span style=\"color: black; background-color: #98ffc5\">&nbsp,&nbsp</span></p>"
      ],
      "text/plain": [
       "<IPython.core.display.HTML object>"
      ]
     },
     "metadata": {},
     "output_type": "display_data"
    },
    {
     "name": "stdout",
     "output_type": "stream",
     "text": [
      "tensor([ 6,  6, -1, 61, 61, 61, -1, -1, -1, 92, 60, 83, -1, 61, 42, 94, -1, -1,\n",
      "        -1, -1, -1, 94, 28, 61, 79, 61, 61, 61, -1, -1, -1, 71, -1, 83, -1, -1,\n",
      "        45, -1, -1, 57, 61, 83, -1, 61, 61, -1, 80, -1, -1, -1],\n",
      "       device='cuda:0')\n"
     ]
    }
   ],
   "source": [
    "# Visualize\n",
    "\n",
    "decoded_tokens_for_print = [re.sub(\"<0x0A>\", \"<br>\", d) for d in decoded_tokens]\n",
    "decoded_tokens_for_print = [re.sub(\"<s>\", \"\", d) for d in decoded_tokens_for_print]\n",
    "\n",
    "words = decoded_tokens_for_print\n",
    "color_array = labels.detach().cpu().numpy()\n",
    "color_array_set = sorted(list(set(color_array)))\n",
    "color_array = [color_array_set.index(k) for k in color_array]\n",
    "\n",
    "print(text)\n",
    "for VISUALIZATION_TYPE in  ['labels', 'logits']:\n",
    "    if VISUALIZATION_TYPE == \"labels\":\n",
    "        def cmap(x):\n",
    "            cmap = matplotlib.colormaps.get_cmap('tab20')\n",
    "            if x==0:\n",
    "                return (1,1,1)\n",
    "            else:\n",
    "                return cmap(x)\n",
    "\n",
    "        s = colorize(words, color_array, color_map_version=1, custom_mapping=cmap)\n",
    "        display(HTML(s))\n",
    "\n",
    "    elif VISUALIZATION_TYPE == \"logits\": \n",
    "        color_array = logits.detach().cpu().numpy()\n",
    "        s = colorize(words, color_array, color_map_version=1)\n",
    "        display(HTML(s))\n",
    "print(labels)"
   ]
  }
 ],
 "metadata": {
  "kernelspec": {
   "display_name": "base",
   "language": "python",
   "name": "python3"
  },
  "language_info": {
   "codemirror_mode": {
    "name": "ipython",
    "version": 3
   },
   "file_extension": ".py",
   "mimetype": "text/x-python",
   "name": "python",
   "nbconvert_exporter": "python",
   "pygments_lexer": "ipython3",
   "version": "3.11.5"
  }
 },
 "nbformat": 4,
 "nbformat_minor": 2
}
